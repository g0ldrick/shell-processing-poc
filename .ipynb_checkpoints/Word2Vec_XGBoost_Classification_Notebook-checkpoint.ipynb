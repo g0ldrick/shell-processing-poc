{
 "cells": [
  {
   "cell_type": "code",
   "execution_count": null,
   "id": "3281cc57",
   "metadata": {},
   "outputs": [],
   "source": [
    "# Required imports\n",
    "import pandas as pd\n",
    "import numpy as np\n",
    "import gensim\n",
    "from gensim.models import Word2Vec\n",
    "from sklearn.model_selection import train_test_split\n",
    "from xgboost import XGBClassifier\n",
    "from sklearn.metrics import accuracy_score"
   ]
  },
  {
   "cell_type": "code",
   "execution_count": null,
   "id": "319d7456",
   "metadata": {},
   "outputs": [],
   "source": [
    "# Data loading and preprocessing\n",
    "# Assuming you have your 'data_df' dataset ready for processing\n",
    "# Make sure data_df has columns: 'commands' for command text and 'labels' for classification labels\n",
    "# Example of tokenization and further processing\n",
    "\n",
    "def tokenize_shell_command(cmd):\n",
    "    # Split the shell command by space while keeping special characters intact\n",
    "    tokens = cmd.split()\n",
    "    return tokens\n",
    "\n",
    "# Tokenizing the commands\n",
    "data_df['tokenized_commands'] = data_df['commands'].apply(tokenize_shell_command)\n"
   ]
  },
  {
   "cell_type": "code",
   "execution_count": null,
   "id": "20430c74",
   "metadata": {},
   "outputs": [],
   "source": [
    "# Step 1: Train Word2Vec model on tokenized shell commands\n",
    "w2v_model = Word2Vec(sentences=data_df['tokenized_commands'], vector_size=100, window=5, min_count=1, workers=4)\n",
    "\n",
    "# Step 2: Create embedding for each command (average of word vectors)\n",
    "def get_command_embedding(command):\n",
    "    vectors = [w2v_model.wv[word] for word in command if word in w2v_model.wv]\n",
    "    return np.mean(vectors, axis=0) if vectors else np.zeros(w2v_model.vector_size)\n",
    "\n",
    "# Apply the embedding to the dataset\n",
    "X_word2vec = np.array([get_command_embedding(cmd) for cmd in data_df['tokenized_commands']])\n",
    "\n",
    "# Step 3: Train-test split\n",
    "X_train, X_test, y_train, y_test = train_test_split(X_word2vec, data_df['labels'], test_size=0.2, random_state=42)\n",
    "\n",
    "# Step 4: XGBoost classification\n",
    "xgb_model = XGBClassifier(use_label_encoder=False, eval_metric='logloss')\n",
    "xgb_model.fit(X_train, y_train)\n",
    "\n",
    "# Step 5: Prediction and accuracy\n",
    "y_pred = xgb_model.predict(X_test)\n",
    "accuracy = accuracy_score(y_test, y_pred)\n",
    "print(f'Classification accuracy: {accuracy:.4f}')\n"
   ]
  }
 ],
 "metadata": {
  "kernelspec": {
   "display_name": "Python 3 (ipykernel)",
   "language": "python",
   "name": "python3"
  },
  "language_info": {
   "codemirror_mode": {
    "name": "ipython",
    "version": 3
   },
   "file_extension": ".py",
   "mimetype": "text/x-python",
   "name": "python",
   "nbconvert_exporter": "python",
   "pygments_lexer": "ipython3",
   "version": "3.12.2"
  }
 },
 "nbformat": 4,
 "nbformat_minor": 5
}

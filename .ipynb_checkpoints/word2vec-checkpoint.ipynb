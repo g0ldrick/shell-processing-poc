{
 "cells": [
  {
   "cell_type": "code",
   "execution_count": 7,
   "id": "dbf5fc42",
   "metadata": {},
   "outputs": [],
   "source": [
    "# Required imports\n",
    "import pandas as pd\n",
    "import numpy as np\n",
    "from sklearn.model_selection import train_test_split\n",
    "from xgboost import XGBClassifier\n",
    "from sklearn.metrics import accuracy_score"
   ]
  },
  {
   "cell_type": "code",
   "execution_count": 9,
   "id": "1cea9370",
   "metadata": {},
   "outputs": [
    {
     "data": {
      "text/html": [
       "<div>\n",
       "<style scoped>\n",
       "    .dataframe tbody tr th:only-of-type {\n",
       "        vertical-align: middle;\n",
       "    }\n",
       "\n",
       "    .dataframe tbody tr th {\n",
       "        vertical-align: top;\n",
       "    }\n",
       "\n",
       "    .dataframe thead th {\n",
       "        text-align: right;\n",
       "    }\n",
       "</style>\n",
       "<table border=\"1\" class=\"dataframe\">\n",
       "  <thead>\n",
       "    <tr style=\"text-align: right;\">\n",
       "      <th></th>\n",
       "      <th>command</th>\n",
       "      <th>label</th>\n",
       "    </tr>\n",
       "  </thead>\n",
       "  <tbody>\n",
       "    <tr>\n",
       "      <th>0</th>\n",
       "      <td>() { :;}; /bin/bash -c \\\"cd /tmp;wget http://e...</td>\n",
       "      <td>1</td>\n",
       "    </tr>\n",
       "    <tr>\n",
       "      <th>1</th>\n",
       "      <td>() { :;}; /bin/bash -c ‘nc 192.168.234.166 133...</td>\n",
       "      <td>1</td>\n",
       "    </tr>\n",
       "    <tr>\n",
       "      <th>2</th>\n",
       "      <td>gcc exploit.c -o exploit</td>\n",
       "      <td>1</td>\n",
       "    </tr>\n",
       "    <tr>\n",
       "      <th>3</th>\n",
       "      <td>find . -iname .ssh &gt; triznadm/sshlist 2&gt;/dev/null</td>\n",
       "      <td>1</td>\n",
       "    </tr>\n",
       "    <tr>\n",
       "      <th>4</th>\n",
       "      <td>for i in $(cat triznadm/sshlist); do ls -la $i...</td>\n",
       "      <td>1</td>\n",
       "    </tr>\n",
       "  </tbody>\n",
       "</table>\n",
       "</div>"
      ],
      "text/plain": [
       "                                             command  label\n",
       "0  () { :;}; /bin/bash -c \\\"cd /tmp;wget http://e...      1\n",
       "1  () { :;}; /bin/bash -c ‘nc 192.168.234.166 133...      1\n",
       "2                           gcc exploit.c -o exploit      1\n",
       "3  find . -iname .ssh > triznadm/sshlist 2>/dev/null      1\n",
       "4  for i in $(cat triznadm/sshlist); do ls -la $i...      1"
      ]
     },
     "execution_count": 9,
     "metadata": {},
     "output_type": "execute_result"
    }
   ],
   "source": [
    "with open('malicious.cm', 'r') as file:\n",
    "    malicious_commands = file.readlines()\n",
    "\n",
    "with open('legit.cm', 'r') as file:\n",
    "    legitimate_commands = file.readlines()\n",
    "\n",
    "df_malicious = pd.DataFrame({\n",
    "    'command': [command.strip() for command in malicious_commands],\n",
    "    'label': 1  # 1 for malicious\n",
    "})\n",
    "\n",
    "df_legitimate = pd.DataFrame({\n",
    "    'command': [command.strip() for command in legitimate_commands],\n",
    "    'label': 0  # 0 for legitimate\n",
    "})\n",
    "\n",
    "data_df = pd.concat([df_malicious, df_legitimate], ignore_index=True)\n",
    "data_df.head()"
   ]
  },
  {
   "cell_type": "code",
   "execution_count": 11,
   "id": "e4beba60-2d41-4c30-8154-d431c2412d52",
   "metadata": {},
   "outputs": [
    {
     "name": "stdout",
     "output_type": "stream",
     "text": [
      "Requirement already satisfied: scipy==1.12 in /opt/anaconda3/lib/python3.12/site-packages (1.12.0)\n",
      "Requirement already satisfied: numpy<1.29.0,>=1.22.4 in /opt/anaconda3/lib/python3.12/site-packages (from scipy==1.12) (1.26.4)\n",
      "Note: you may need to restart the kernel to use updated packages.\n"
     ]
    }
   ],
   "source": [
    "pip install scipy==1.12"
   ]
  },
  {
   "cell_type": "code",
   "execution_count": 12,
   "id": "ed52340a-2857-419f-8d0c-8d32035a036a",
   "metadata": {},
   "outputs": [
    {
     "name": "stdout",
     "output_type": "stream",
     "text": [
      "1.12.0\n"
     ]
    }
   ],
   "source": [
    "# Making sure we're using v1.12 as later versions error using word2vec\n",
    "import scipy\n",
    "print(scipy.__version__)"
   ]
  },
  {
   "cell_type": "code",
   "execution_count": 17,
   "id": "7670b388",
   "metadata": {},
   "outputs": [
    {
     "name": "stdout",
     "output_type": "stream",
     "text": [
      "Classification accuracy: 0.9894\n"
     ]
    },
    {
     "name": "stderr",
     "output_type": "stream",
     "text": [
      "/opt/anaconda3/lib/python3.12/site-packages/xgboost/core.py:158: UserWarning: [21:12:32] WARNING: /Users/runner/work/xgboost/xgboost/src/learner.cc:740: \n",
      "Parameters: { \"use_label_encoder\" } are not used.\n",
      "\n",
      "  warnings.warn(smsg, UserWarning)\n"
     ]
    }
   ],
   "source": [
    "from gensim.models import Word2Vec\n",
    "\n",
    "def tokenize_shell_command(cmd):\n",
    "    return cmd.split()\n",
    "    \n",
    "data_df['tokenized_commands'] = data_df['command'].apply(tokenize_shell_command)\n",
    "\n",
    "w2v_model = Word2Vec(sentences=data_df['tokenized_commands'], vector_size=100, window=5, min_count=1, workers=4)\n",
    "\n",
    "def get_command_embedding(command):\n",
    "    vectors = [w2v_model.wv[word] for word in command if word in w2v_model.wv]\n",
    "    return np.mean(vectors, axis=0) if vectors else np.zeros(w2v_model.vector_size)\n",
    "\n",
    "X_word2vec = np.array([get_command_embedding(cmd) for cmd in data_df['tokenized_commands']])\n",
    "\n",
    "X_train, X_test, y_train, y_test = train_test_split(X_word2vec, data_df['label'], test_size=0.2, random_state=42)\n",
    "\n",
    "# XGBoost classification\n",
    "xgb_model = XGBClassifier(use_label_encoder=False, eval_metric='logloss')\n",
    "xgb_model.fit(X_train, y_train)\n",
    "\n",
    "y_pred = xgb_model.predict(X_test)\n",
    "accuracy = accuracy_score(y_test, y_pred)\n",
    "print(f'Classification accuracy: {accuracy:.4f}')"
   ]
  },
  {
   "cell_type": "code",
   "execution_count": null,
   "id": "3913da37-783a-4c9b-88b2-422fd315140b",
   "metadata": {},
   "outputs": [],
   "source": []
  }
 ],
 "metadata": {
  "kernelspec": {
   "display_name": "Python 3 (ipykernel)",
   "language": "python",
   "name": "python3"
  },
  "language_info": {
   "codemirror_mode": {
    "name": "ipython",
    "version": 3
   },
   "file_extension": ".py",
   "mimetype": "text/x-python",
   "name": "python",
   "nbconvert_exporter": "python",
   "pygments_lexer": "ipython3",
   "version": "3.12.2"
  }
 },
 "nbformat": 4,
 "nbformat_minor": 5
}
